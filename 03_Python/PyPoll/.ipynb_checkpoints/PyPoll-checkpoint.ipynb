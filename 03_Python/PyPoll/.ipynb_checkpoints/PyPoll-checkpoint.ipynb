{
 "cells": [
  {
   "cell_type": "code",
   "execution_count": 2,
   "metadata": {},
   "outputs": [
    {
     "name": "stdout",
     "output_type": "stream",
     "text": [
      "Election Results\n",
      "\n",
      "-------------------------------\n",
      "\n",
      "Total Votes: 3521002\n",
      "\n",
      "-------------------------------\n",
      "\n",
      "Khan: 63.000%  (2218231)\n",
      "Correy: 20.000%  (704200)\n",
      "Li: 14.000%  (492940)\n",
      "O'Tooley: 3.000%  (105630)\n",
      "--------------------------------\n",
      "\n",
      "Winner: Khan \n",
      "\n",
      "--------------------------------\n",
      "\n"
     ]
    }
   ],
   "source": [
    "import os\n",
    "import csv\n",
    "filepath = os.path.join( 'Resources','election_data.csv')\n",
    "\n",
    "#Initialize variables\n",
    "total_count = 0; k_count = 0; c_count = 0; l_count = 0; o_count = 0; max_votecount = 0\n",
    "\n",
    "#Function for % calculation\n",
    "def percentage (part, whole):\n",
    "    return 100 * float(part)/float(whole)\n",
    "\n",
    "#Open and read CSV file\n",
    "with open(filepath, newline='') as csvfile:\n",
    "     csvreader = csv.reader(csvfile, delimiter=',')\n",
    "\n",
    "     for i in csvreader:\n",
    "         voterid = i[0]\n",
    "         country = i[1]\n",
    "         candidate = i[2]\n",
    "         # Find Total Vote Count\n",
    "         total_count = total_count + 1\n",
    "\n",
    "         # Find votecount by candidates\n",
    "         if candidate ==\"Khan\":\n",
    "            k_count = k_count + 1\n",
    "         if candidate ==\"Correy\":\n",
    "            c_count = c_count + 1\n",
    "         if candidate ==\"Li\":\n",
    "            l_count = l_count + 1\n",
    "         if candidate ==\"O'Tooley\":\n",
    "            o_count = o_count + 1\n",
    "            \n",
    "# Define (dictionary) list : candidate and votes\n",
    "     candidatevote = {\"Khan\": k_count,\"Correy\": c_count,\"Li\" :l_count, \"O'Tooley\": o_count}\n",
    "     # Find winner \n",
    "     for candidate, value in candidatevote.items():\n",
    "         if value > max_votecount:\n",
    "            max_votecount = value\n",
    "            winner = candidate\n",
    "# Display results       \n",
    "print(f'Election Results'+'\\n')\n",
    "print(f'-------------------------------'+'\\n')\n",
    "print(f'Total Votes: {total_count}'+'\\n')\n",
    "print(f'-------------------------------'+'\\n')\n",
    "\n",
    "print(f'Khan: {percentage(k_count,total_count):.3f}%  ({k_count})')\n",
    "print(f'Correy: {percentage(c_count,total_count):.3f}%  ({c_count})')\n",
    "print(f'Li: {percentage(l_count,total_count):.3f}%  ({l_count})')\n",
    "print(f'O\\'Tooley: {percentage(o_count,total_count):.3f}%  ({o_count})')\n",
    "print(f'--------------------------------'+'\\n')\n",
    "print(f'Winner: {winner} '+'\\n')\n",
    "print(f'--------------------------------'+'\\n')"
   ]
  },
  {
   "cell_type": "code",
   "execution_count": null,
   "metadata": {},
   "outputs": [],
   "source": []
  }
 ],
 "metadata": {
  "kernelspec": {
   "display_name": "Python 3",
   "language": "python",
   "name": "python3"
  },
  "language_info": {
   "codemirror_mode": {
    "name": "ipython",
    "version": 3
   },
   "file_extension": ".py",
   "mimetype": "text/x-python",
   "name": "python",
   "nbconvert_exporter": "python",
   "pygments_lexer": "ipython3",
   "version": "3.7.4"
  }
 },
 "nbformat": 4,
 "nbformat_minor": 4
}
