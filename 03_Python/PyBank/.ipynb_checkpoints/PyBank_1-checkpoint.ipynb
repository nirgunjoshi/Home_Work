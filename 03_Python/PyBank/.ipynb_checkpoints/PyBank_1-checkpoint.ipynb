{
 "cells": [
  {
   "cell_type": "code",
   "execution_count": 4,
   "metadata": {},
   "outputs": [
    {
     "name": "stdout",
     "output_type": "stream",
     "text": [
      "Financial Analysis\n",
      "\n",
      "----------------------------\n",
      "\n",
      "Total Months : 86\n",
      "Total: $ 38382578\n",
      "Greatest Increase in Profits: Feb-2012 : ($ 1926159)\n",
      "Greatest Decrease in Profits: Sep-2013 : ($ -2196167)\n"
     ]
    }
   ],
   "source": [
    "# Import os module that has functions to interact with the file system\n",
    "import os\n",
    "# Import module for reading CSV files\n",
    "import csv\n",
    "#Append file directory and make a complete file path\n",
    "filepath = os.path.join('Resources','budget_data.csv')\n",
    "\n",
    "#Initialize variables\n",
    "month_count = 0; total_amnt = 0; Pre_Value = 0; Diff = 0; Max_Diff = 0; Min_Diff = 0\n",
    "#Open and read CSV file\n",
    "with open(filepath, newline='') as csvfile:\n",
    "     csvreader = csv.reader(csvfile, delimiter=',')\n",
    "     csv_header = next(csvreader)\n",
    "     print(f'Financial Analysis'+'\\n')\n",
    "     print(f'----------------------------'+'\\n')\n",
    "     for i in csvreader:\n",
    "         month = i[0]\n",
    "         Amount = i[1]\n",
    "         iAmount = int(Amount)\n",
    "         Diff =  iAmount - PreValue\n",
    "         #Placeholder to track greatest increase in profits (financial analysis)\n",
    "         if Max_Diff < Diff:\n",
    "            Max_Diff = Diff\n",
    "            DiffMaxDate = month\n",
    "         #Placeholder to track greatest decrease in profits (financial analysis)\n",
    "         if Min_Diff > Diff:\n",
    "            Min_Diff = Diff\n",
    "            DiffMinDate = month\n",
    "\n",
    "         PreValue = iAmount   \n",
    "         # Get total months (financial analysis)\n",
    "         month_count = month_count + 1\n",
    "         total_amnt += int(Amount) \n",
    "\n",
    "## Display Results ##      \n",
    "#The total number of months included in the dataset\n",
    "print(f'Total Months : {month_count}')\n",
    "#The total net amount of \"Profit/Losses\" over the entire period\n",
    "print(f'Total: $ {total_amnt}')\n",
    "# Greatest increase in profit\n",
    "print(f'Greatest Increase in Profits: {DiffMaxDate} : ($ {Max_Diff})')\n",
    "# Greatest increase in profit\n",
    "print(f'Greatest Decrease in Profits: {DiffMinDate} : ($ {Min_Diff})')"
   ]
  },
  {
   "cell_type": "code",
   "execution_count": null,
   "metadata": {},
   "outputs": [],
   "source": []
  }
 ],
 "metadata": {
  "kernelspec": {
   "display_name": "Python 3",
   "language": "python",
   "name": "python3"
  },
  "language_info": {
   "codemirror_mode": {
    "name": "ipython",
    "version": 3
   },
   "file_extension": ".py",
   "mimetype": "text/x-python",
   "name": "python",
   "nbconvert_exporter": "python",
   "pygments_lexer": "ipython3",
   "version": "3.7.4"
  }
 },
 "nbformat": 4,
 "nbformat_minor": 4
}
