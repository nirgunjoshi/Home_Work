{
 "cells": [
  {
   "cell_type": "code",
   "execution_count": 2,
   "metadata": {},
   "outputs": [],
   "source": [
    "# Your task is to create a Python script that analyzes the records to calculate each of the following:\n",
    "# The total number of months included in the dataset\n",
    "# The net total amount of \"Profit/Losses\" over the entire period\n",
    "# The average of the changes in \"Profit/Losses\" over the entire period\n",
    "# The greatest increase in profits (date and amount) over the entire period\n",
    "# The greatest decrease in losses (date and amount) over the entire period"
   ]
  },
  {
   "cell_type": "code",
   "execution_count": 3,
   "metadata": {},
   "outputs": [],
   "source": [
    "import os\n",
    "import csv"
   ]
  },
  {
   "cell_type": "code",
   "execution_count": 7,
   "metadata": {},
   "outputs": [],
   "source": [
    "#File path\n",
    "csv_path = os.path.join(\"Resources\", \"budget_data.csv\")"
   ]
  },
  {
   "cell_type": "code",
   "execution_count": 58,
   "metadata": {},
   "outputs": [],
   "source": [
    "#Initialize the variales\n",
    "month_count = 0; total_amnt = 0; Pre_Value = 0; Diff = 0; Max_Diff = 0; Min_Diff = 0"
   ]
  },
  {
   "cell_type": "code",
   "execution_count": 59,
   "metadata": {},
   "outputs": [
    {
     "name": "stdout",
     "output_type": "stream",
     "text": [
      "Financial Analysis\n",
      "\n",
      "----------------------------\n",
      "\n",
      "Total Months : 1\n",
      "Total: $ 671099\n",
      "Greatest Increase in Profits: Feb-2017 : ($ 671099)\n",
      "Greatest Decrease in Profits: 0 : ($ 0)\n"
     ]
    }
   ],
   "source": [
    "#Open and read CSV file\n",
    "with open(csv_path, newline='') as csvfile:\n",
    "     csvreader = csv.reader(csvfile, delimiter=',')\n",
    "     csv_header = next(csvreader)\n",
    "     print(f'Financial Analysis'+'\\n')\n",
    "     print(f'----------------------------'+'\\n')\n",
    "     for i in csvreader:\n",
    "      month = i[0]\n",
    "      Amount = i[1]\n",
    "      iAmount = int(Amount)\n",
    "      Diff =  iAmount - Pre_Value\n",
    "#Placeholder to track greatest increase in profits (financial analysis)\n",
    "     if Max_Diff < Diff:\n",
    "      Max_Diff = Diff\n",
    "      Diff_MaxDate = month\n",
    "#Placeholder to track greatest decrease in profits (financial analysis)\n",
    "     if Min_Diff > Diff:\n",
    "      Min_Diff = Diff\n",
    "      Diff_MinDate = month\n",
    "     Pre_Value = iAmount   \n",
    "     month_count = month_count + 1\n",
    "     total_amnt += int(Amount) \n",
    "#Results\n",
    "#Total number of months\n",
    "print(f'Total Months : {month_count}')\n",
    "#The total net amount of \"Profit/Losses\" over the entire period\n",
    "print(f'Total: $ {total_amnt}')\n",
    "# Greatest increase in profit\n",
    "print(f'Greatest Increase in Profits: {Diff_MaxDate} : ($ {Max_Diff})')\n",
    "# Greatest increase in profit\n",
    "print(f'Greatest Decrease in Profits: {Diff_MinDate} : ($ {Min_Diff})')"
   ]
  },
  {
   "cell_type": "code",
   "execution_count": null,
   "metadata": {},
   "outputs": [],
   "source": []
  }
 ],
 "metadata": {
  "kernelspec": {
   "display_name": "Python 3",
   "language": "python",
   "name": "python3"
  },
  "language_info": {
   "codemirror_mode": {
    "name": "ipython",
    "version": 3
   },
   "file_extension": ".py",
   "mimetype": "text/x-python",
   "name": "python",
   "nbconvert_exporter": "python",
   "pygments_lexer": "ipython3",
   "version": "3.7.4"
  }
 },
 "nbformat": 4,
 "nbformat_minor": 4
}
